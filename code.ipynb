{
 "cells": [
  {
   "cell_type": "code",
   "execution_count": 1,
   "metadata": {},
   "outputs": [
    {
     "name": "stdout",
     "output_type": "stream",
     "text": [
      "hello\n"
     ]
    }
   ],
   "source": [
    "print(\"hello\")"
   ]
  },
  {
   "cell_type": "code",
   "execution_count": 3,
   "metadata": {},
   "outputs": [],
   "source": [
    "from moviepy.editor import VideoFileClip"
   ]
  },
  {
   "cell_type": "code",
   "execution_count": 4,
   "metadata": {},
   "outputs": [
    {
     "name": "stdout",
     "output_type": "stream",
     "text": [
      "MoviePy - Writing audio in audio.wav\n"
     ]
    },
    {
     "name": "stderr",
     "output_type": "stream",
     "text": [
      "                                                                      "
     ]
    },
    {
     "name": "stdout",
     "output_type": "stream",
     "text": [
      "MoviePy - Done.\n"
     ]
    },
    {
     "name": "stderr",
     "output_type": "stream",
     "text": [
      "\r"
     ]
    }
   ],
   "source": [
    "# Load video file\n",
    "video = VideoFileClip(r\"C:\\Users\\pawan\\Speech\\video\\WIN_20230909_10_25_54_Pro.mp4\")\n",
    "\n",
    "# Extract audio\n",
    "audio = video.audio\n",
    "audio.write_audiofile(\"audio.wav\")"
   ]
  },
  {
   "cell_type": "code",
   "execution_count": 5,
   "metadata": {},
   "outputs": [
    {
     "name": "stdout",
     "output_type": "stream",
     "text": [
      "Transcribed Text:  a recruiter myself Pawan Kumar javaji and I am from Khammam Telangana coming to my educational background I have done my Bachelors of degree from National Institute of Technology in the stream of electronics and communication engineering and my passion and interest towards Data Analytics makes me to choose my career in this domain and coming to my project experience I have done a real time project on weapon object detection on HD devices it's a deep learning based project coming deep into the project I have collected a data set which contains 4000 images of pistols and I have trained it in nothing but you only once and I diploid you know Coral board which is hardware board developed by Google for machine learning models and all and I connected the Coral board with simple email services a function provided by AWS and based on this project I presented a paper on ICP and got accepted by NIT Meghalaya and the paper got published and coming to the other projects which I have what was based on Data Analytics like project based on Data Analytics and business intelligence and coming to my Course work I was proficient with database data visualisation and Data Analytics coming to my technical skills I was proficient in C C + + Python MySQL MS Excel tablet coming to my personal skills I was a good communicator and team worker and ability to work quickly and good interpersonal skills\n"
     ]
    }
   ],
   "source": [
    "import speech_recognition as sr\n",
    "\n",
    "# Initialize recognizer\n",
    "recognizer = sr.Recognizer()\n",
    "\n",
    "# Load the audio file\n",
    "audio_file = sr.AudioFile('audio.wav')\n",
    "\n",
    "with audio_file as source:\n",
    "    audio_data = recognizer.record(source)\n",
    "    \n",
    "# Convert speech to text using Google's speech recognition API\n",
    "text = recognizer.recognize_google(audio_data)\n",
    "\n",
    "print(\"Transcribed Text: \", text)\n"
   ]
  },
  {
   "cell_type": "code",
   "execution_count": 14,
   "metadata": {},
   "outputs": [],
   "source": [
    "from langchain_groq import ChatGroq\n",
    "llm = ChatGroq(\n",
    "    groq_api_key=\"Your Api key",\n",
    "    model=\"llama-3.1-70b-Versatile\",\n",
    "    temperature=0.7  # Adjust temperature as needed\n",
    ")"
   ]
  },
  {
   "cell_type": "code",
   "execution_count": 26,
   "metadata": {},
   "outputs": [
    {
     "name": "stdout",
     "output_type": "stream",
     "text": [
      "Response Text:  **Extracted Information:**\n",
      "\n",
      "```python\n",
      "{\n",
      "    \"Name\": \"Pawan Kumar Javaji\",\n",
      "    \"Skills\": [\"C\", \"C++\", \"Python\", \"MySQL\", \"MS Excel\", \"Tableau\", \"Database\", \"Data Visualisation\", \"Data Analytics\", \"Good Communication\", \"Team Work\", \"Interpersonal Skills\"],\n",
      "    \"Projects\": [\"Real-time Project on Weapon Object Detection on HD devices\", \"Project based on Data Analytics and Business Intelligence\"],\n",
      "    \"Education\": \"Bachelors of degree from National Institute of Technology in the stream of Electronics and Communication Engineering\"\n",
      "}\n",
      "```\n",
      "\n",
      "**Generated Interview Questions:**\n",
      "\n",
      "**1. Easy Questions (5 questions):**\n",
      "\n",
      "1. Can you tell us about your educational background?\n",
      "2. What inspired you to pursue a career in Data Analytics?\n",
      "3. Can you walk us through a project you worked on that you're particularly proud of?\n",
      "4. How do you stay up-to-date with the latest developments in Data Analytics?\n",
      "5. Can you describe your experience working with database management systems?\n",
      "\n",
      "**2. Medium Questions (5 questions):**\n",
      "\n",
      "1. How do you approach data visualization, and what tools do you use to create effective visualizations?\n",
      "2. Can you explain the concept of deep learning and how you applied it in your project on weapon object detection?\n",
      "3. How do you ensure data quality and integrity in your analytics projects?\n",
      "4. Can you describe a time when you had to communicate complex technical information to a non-technical audience?\n",
      "5. How do you handle missing or incomplete data in your analytics projects?\n",
      "\n",
      "**3. Hard Questions (5 questions):**\n",
      "\n",
      "1. Can you explain the technical differences between C and C++ programming languages, and how you would choose between them for a particular project?\n",
      "2. How do you approach model selection and hyperparameter tuning in machine learning projects?\n",
      "3. Can you describe a scenario where you would use a Coral board for machine learning model deployment, and how you would implement it?\n",
      "4. How do you evaluate the effectiveness of a data analytics project, and what metrics do you use to measure success?\n",
      "5. Can you design a high-level architecture for a real-time data analytics pipeline, and explain the components and technologies you would use?\n"
     ]
    }
   ],
   "source": [
    "extraction_and_questions_prompt = f\"\"\"\n",
    "You are a helpful assistant that performs two tasks based on the provided text. \n",
    "\n",
    "1. **Extract Specific Information**:\n",
    "   Extract the following details from the resume-like text and return them in a dictionary format:\n",
    "   - Name\n",
    "   - Skills\n",
    "   - Projects\n",
    "   - Education\n",
    "\n",
    "   Here is the text:\n",
    "   {text}\n",
    "\n",
    "   Please provide the extracted information in the following dictionary format:\n",
    "   {{\n",
    "       \"Name\": \"Extracted Name\",\n",
    "       \"Skills\": [\"Skill1\", \"Skill2\", ...],\n",
    "       \"Projects\": [\"Project1\", \"Project2\", ...],\n",
    "       \"Education\": \"Extracted Education\"\n",
    "   }}\n",
    "\n",
    "2. **Generate Interview Questions**:\n",
    "   Based on the extracted information, generate interview questions categorized by difficulty levels. Provide 5 questions for each difficulty level: easy, medium, and hard.\n",
    "\n",
    "   Here is the extracted information:\n",
    "   {{}}\n",
    "\n",
    "   Please generate questions categorized as follows:\n",
    "\n",
    "   1. Easy Questions (5 questions):\n",
    "       - Question 1\n",
    "       - Question 2\n",
    "       - Question 3\n",
    "       - Question 4\n",
    "       - Question 5\n",
    "\n",
    "   2. Medium Questions (5 questions):\n",
    "       - Question 1\n",
    "       - Question 2\n",
    "       - Question 3\n",
    "       - Question 4\n",
    "       - Question 5\n",
    "\n",
    "   3. Hard Questions (5 questions):\n",
    "       - Question 1\n",
    "       - Question 2\n",
    "       - Question 3\n",
    "       - Question 4\n",
    "       - Question 5\n",
    "\"\"\"\n",
    "\n",
    "# Call the LLM with the updated prompt\n",
    "response = llm.invoke([(\"system\", \"You are a helpful assistant.\"), (\"human\", extraction_and_questions_prompt)])\n",
    "\n",
    "# Extract and handle the response\n",
    "response_text = response.content  # Use 'content' or other attributes\n",
    "print(\"Response Text: \", response_text)\n"
   ]
  }
 ],
 "metadata": {
  "kernelspec": {
   "display_name": "Python 3",
   "language": "python",
   "name": "python3"
  },
  "language_info": {
   "codemirror_mode": {
    "name": "ipython",
    "version": 3
   },
   "file_extension": ".py",
   "mimetype": "text/x-python",
   "name": "python",
   "nbconvert_exporter": "python",
   "pygments_lexer": "ipython3",
   "version": "3.12.4"
  }
 },
 "nbformat": 4,
 "nbformat_minor": 2
}
